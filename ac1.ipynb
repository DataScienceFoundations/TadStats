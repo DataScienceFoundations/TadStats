{
 "cells": [
  {
   "cell_type": "code",
   "execution_count": 1,
   "metadata": {},
   "outputs": [],
   "source": [
    "%matplotlib inline\n",
    "import matplotlib.pyplot as plt\n",
    "import seaborn as sns\n",
    "import pandas as pd\n",
    "import pickle_data\n",
    "import census_api\n",
    "import requests\n",
    "import json"
   ]
  },
  {
   "cell_type": "code",
   "execution_count": 2,
   "metadata": {},
   "outputs": [],
   "source": [
    "def fips_code(fips_df,state):\n",
    "    return fips_df.Code[(fips_df.Name==state) | (fips_df.Abbr==state)].iat[0]"
   ]
  },
  {
   "cell_type": "code",
   "execution_count": 3,
   "metadata": {},
   "outputs": [
    {
     "name": "stdout",
     "output_type": "stream",
     "text": [
      "13.0 == 13.0\n"
     ]
    }
   ],
   "source": [
    "fips_df = pickle_data.get_pickled_data('./fips.pickle')\n",
    "print(fips_code(fips_df,'Georgia'), '==', fips_code(fips_df,'GA'))"
   ]
  },
  {
   "cell_type": "code",
   "execution_count": 4,
   "metadata": {},
   "outputs": [],
   "source": [
    "def get_request(yr, ds, q_vars, preds=[], reg='*'):\n",
    "    req = f'https://api.census.gov/data/{yr}/{ds}?get='\n",
    "    req += ','.join(q_vars)\n",
    "    if len(preds) > 0:\n",
    "        req += '&'+'&'.join(preds)+'&'\n",
    "    else:\n",
    "        req += '&'\n",
    "    req += f'for=state:{reg}&key={census_api.api_key}'\n",
    "    return req"
   ]
  },
  {
   "cell_type": "code",
   "execution_count": 5,
   "metadata": {},
   "outputs": [],
   "source": [
    "req = get_request(2014,'pep/natstprc',\n",
    "                  ['STNAME','POP','DEATHS'],\n",
    "                  ['DATE=7'])\n",
    "sauce = requests.get(req)\n",
    "pop_df = pd.read_json(json.dumps(sauce.json()))\n",
    "pop_df.columns = pop_df.iloc[0].values\n",
    "pop_df = pop_df[1:]\n",
    "pop_df.state = pop_df.state.astype('float64')"
   ]
  },
  {
   "cell_type": "code",
   "execution_count": 6,
   "metadata": {},
   "outputs": [],
   "source": [
    "pop_df = pop_df[pop_df.state.isin(fips_df.Code)]"
   ]
  },
  {
   "cell_type": "code",
   "execution_count": 7,
   "metadata": {},
   "outputs": [],
   "source": [
    "from census import Census\n",
    "from us import states"
   ]
  },
  {
   "cell_type": "code",
   "execution_count": 8,
   "metadata": {},
   "outputs": [],
   "source": [
    "c = Census(census_api.api_key, year=2013)\n",
    "c_df = pd.read_json(json.dumps(c.acs1.state(('NAME',\n",
    "                                             'B11004_001E',\n",
    "                                             'B11004_002E',\n",
    "                                             'B11004_003E'),\n",
    "                                            Census.ALL)))"
   ]
  },
  {
   "cell_type": "code",
   "execution_count": 9,
   "metadata": {},
   "outputs": [],
   "source": [
    "req = get_request(2013,'acs1',\n",
    "                  ['NAME',\n",
    "                   'B11004_001E',\n",
    "                   'B11004_002E',\n",
    "                   'B11004_003E'])\n",
    "sauce = requests.get(req)\n",
    "r_df = pd.read_json(json.dumps(sauce.json()))\n",
    "r_df.columns = r_df.iloc[0].values\n",
    "r_df = r_df[1:]\n",
    "for c in r_df.columns[~r_df.columns.isin(['NAME'])]:\n",
    "    r_df[c] = r_df[c].astype('int64')"
   ]
  },
  {
   "cell_type": "code",
   "execution_count": 10,
   "metadata": {},
   "outputs": [
    {
     "name": "stdout",
     "output_type": "stream",
     "text": [
      "c_df:\n",
      "   B11004_001E  B11004_002E  B11004_003E        NAME  state\n",
      "0      1222568       857865       334703     Alabama      1\n",
      "1       165431       126502        58480      Alaska      2\n",
      "2      1572310      1136593       463668     Arizona      4\n",
      "3       751124       548537       222328    Arkansas      5\n",
      "4      8645970      6160314      2972140  California      6\n",
      "\n",
      "\n",
      "r_df:\n",
      "         NAME  B11004_001E  B11004_002E  B11004_003E  state\n",
      "1     Alabama      1222568       857865       334703      1\n",
      "2      Alaska       165431       126502        58480      2\n",
      "3     Arizona      1572310      1136593       463668      4\n",
      "4    Arkansas       751124       548537       222328      5\n",
      "5  California      8645970      6160314      2972140      6\n"
     ]
    }
   ],
   "source": [
    "print('c_df:')\n",
    "print(c_df.head())\n",
    "print('\\n\\nr_df:')\n",
    "print(r_df.head())"
   ]
  }
 ],
 "metadata": {
  "kernelspec": {
   "display_name": "Python 3",
   "language": "python",
   "name": "python3"
  },
  "language_info": {
   "codemirror_mode": {
    "name": "ipython",
    "version": 3
   },
   "file_extension": ".py",
   "mimetype": "text/x-python",
   "name": "python",
   "nbconvert_exporter": "python",
   "pygments_lexer": "ipython3",
   "version": "3.6.5"
  }
 },
 "nbformat": 4,
 "nbformat_minor": 2
}
