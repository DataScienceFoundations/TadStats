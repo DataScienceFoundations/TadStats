{
 "cells": [
  {
   "cell_type": "code",
   "execution_count": 11,
   "metadata": {},
   "outputs": [],
   "source": [
    "%matplotlib inline\n",
    "import matplotlib.pyplot as plt\n",
    "import seaborn as sns\n",
    "import pandas as pd\n",
    "import pickle_data\n",
    "import census_api\n",
    "import requests\n",
    "import json"
   ]
  },
  {
   "cell_type": "code",
   "execution_count": 12,
   "metadata": {},
   "outputs": [],
   "source": [
    "def fips_code(fips_df,state):\n",
    "    return fips_df.Code[(fips_df.Name==state) | (fips_df.Abbr==state)].iat[0]"
   ]
  },
  {
   "cell_type": "code",
   "execution_count": 13,
   "metadata": {},
   "outputs": [
    {
     "name": "stdout",
     "output_type": "stream",
     "text": [
      "13.0 == 13.0\n"
     ]
    }
   ],
   "source": [
    "fips_df = pickle_data.get_pickled_data('./fips.pickle')\n",
    "print(fips_code(fips_df,'Georgia'), '==', fips_code(fips_df,'GA'))"
   ]
  },
  {
   "cell_type": "code",
   "execution_count": 89,
   "metadata": {},
   "outputs": [],
   "source": [
    "def get_request(yr, ds, q_vars, preds=[], reg='*'):\n",
    "    req = f'https://api.census.gov/data/{yr}/{ds}?get='\n",
    "    req += ','.join(q_vars)\n",
    "    if len(preds) > 0:\n",
    "        req += '&'+'&'.join(preds)+'&'\n",
    "    else:\n",
    "        req += '&'\n",
    "    req += f'for=state:{reg}&key={census_api.api_key}'\n",
    "    return req"
   ]
  },
  {
   "cell_type": "code",
   "execution_count": 91,
   "metadata": {},
   "outputs": [],
   "source": [
    "req = get_request(2014,'pep/natstprc',\n",
    "                  ['STNAME','POP','DEATHS'],\n",
    "                  ['DATE=7'])\n",
    "sauce = requests.get(req)\n",
    "pop_df = pd.read_json(json.dumps(sauce.json()))\n",
    "pop_df.columns = pop_df.iloc[0].values\n",
    "pop_df = pop_df[1:]\n",
    "pop_df.state = pop_df.state.astype('float64')"
   ]
  },
  {
   "cell_type": "code",
   "execution_count": 92,
   "metadata": {},
   "outputs": [],
   "source": [
    "pop_df = pop_df[pop_df.state.isin(fips_df.Code)]"
   ]
  },
  {
   "cell_type": "code",
   "execution_count": 93,
   "metadata": {},
   "outputs": [],
   "source": [
    "from census import Census\n",
    "from us import states"
   ]
  },
  {
   "cell_type": "code",
   "execution_count": 115,
   "metadata": {},
   "outputs": [],
   "source": [
    "c = Census(census_api.api_key, year=2013)\n",
    "c_df = pd.read_json(json.dumps(c.acs1.state(('NAME',\n",
    "                                             'B11004_001E',\n",
    "                                             'B11004_002E',\n",
    "                                             'B11004_003E'),\n",
    "                                            Census.ALL)))"
   ]
  },
  {
   "cell_type": "code",
   "execution_count": 133,
   "metadata": {},
   "outputs": [],
   "source": [
    "req = get_request(2013,'acs1',\n",
    "                  ['NAME',\n",
    "                   'B11004_001E',\n",
    "                   'B11004_002E',\n",
    "                   'B11004_003E'])\n",
    "sauce = requests.get(req)\n",
    "r_df = pd.read_json(json.dumps(sauce.json()))\n",
    "r_df.columns = r_df.iloc[0].values\n",
    "r_df = r_df[1:]\n",
    "for c in r_df.columns[~r_df.columns.isin(['NAME'])]:\n",
    "    r_df[c] = r_df[c].astype('int64')"
   ]
  }
 ],
 "metadata": {
  "kernelspec": {
   "display_name": "Python 3",
   "language": "python",
   "name": "python3"
  },
  "language_info": {
   "codemirror_mode": {
    "name": "ipython",
    "version": 3
   },
   "file_extension": ".py",
   "mimetype": "text/x-python",
   "name": "python",
   "nbconvert_exporter": "python",
   "pygments_lexer": "ipython3",
   "version": "3.6.5"
  }
 },
 "nbformat": 4,
 "nbformat_minor": 2
}
